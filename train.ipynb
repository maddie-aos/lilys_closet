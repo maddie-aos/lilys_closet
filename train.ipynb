{
 "cells": [
  {
   "cell_type": "markdown",
   "metadata": {},
   "source": [
    "## Starting with importing packages"
   ]
  },
  {
   "cell_type": "code",
   "execution_count": 8,
   "metadata": {},
   "outputs": [],
   "source": [
    "import tensorflow\n",
    "from tensorflow.keras.layers import GlobalMaxPooling2D\n",
    "from tensorflow.keras.preprocessing import  image\n",
    "from tensorflow.keras.applications.resnet50 import ResNet50, preprocess_input\n",
    "import numpy as np\n",
    "import os\n",
    "from PIL import Image\n",
    "from tqdm import tqdm\n",
    "from sklearn.neighbors import NearestNeighbors\n",
    "import pickle\n",
    "from matplotlib import pyplot as plt\n"
   ]
  },
  {
   "cell_type": "markdown",
   "metadata": {},
   "source": [
    "Now Building the resnet model"
   ]
  },
  {
   "cell_type": "code",
   "execution_count": 9,
   "metadata": {},
   "outputs": [
    {
     "name": "stdout",
     "output_type": "stream",
     "text": [
      "Model: \"sequential_2\"\n",
      "_________________________________________________________________\n",
      " Layer (type)                Output Shape              Param #   \n",
      "=================================================================\n",
      " resnet50 (Functional)       (None, 7, 7, 2048)        23587712  \n",
      "                                                                 \n",
      " global_average_pooling2d_2  (None, 2048)              0         \n",
      "  (GlobalAveragePooling2D)                                       \n",
      "                                                                 \n",
      "=================================================================\n",
      "Total params: 23587712 (89.98 MB)\n",
      "Trainable params: 0 (0.00 Byte)\n",
      "Non-trainable params: 23587712 (89.98 MB)\n",
      "_________________________________________________________________\n",
      "None\n"
     ]
    }
   ],
   "source": [
    "model = ResNet50(weights='imagenet', include_top=False, input_shape=(224, 224, 3))\n",
    "model.trainable = False\n",
    "\n",
    "model = tensorflow.keras.Sequential([\n",
    "    model,\n",
    "    tensorflow.keras.layers.GlobalAveragePooling2D(),\n",
    "])\n",
    "\n",
    "print(model.summary())"
   ]
  },
  {
   "cell_type": "code",
   "execution_count": 10,
   "metadata": {},
   "outputs": [],
   "source": [
    "def extract_features(image_path, model):\n",
    "    img = image.load_img(image_path, target_size=(224,224))\n",
    "    img_arr = image.img_to_array(img)\n",
    "    expanded_img_arr = np.expand_dims(img_arr, axis=0)\n",
    "    preprocess_img = preprocess_input(expanded_img_arr)\n",
    "    result = model.predict(preprocess_img, verbose=0).flatten()\n",
    "    normalized_result = result / np.linalg.norm(result)\n",
    "    return normalized_result"
   ]
  },
  {
   "cell_type": "code",
   "execution_count": 11,
   "metadata": {},
   "outputs": [],
   "source": [
    "filenames = []\n",
    "\n",
    "path = \"fashion-dataset/images\"\n",
    "for fn in os.listdir(path):\n",
    "    filenames.append(os.path.join(path,fn))\n",
    "\n",
    "\n",
    "pickle.dump(filenames, open(\"filenames.pkl\", \"wb\"))"
   ]
  },
  {
   "cell_type": "code",
   "execution_count": 12,
   "metadata": {},
   "outputs": [
    {
     "name": "stderr",
     "output_type": "stream",
     "text": [
      "100%|██████████| 44441/44441 [2:41:53<00:00,  4.58it/s]  \n"
     ]
    }
   ],
   "source": [
    "feature_list = []\n",
    "for image_path in tqdm(filenames):\n",
    "    feature_list.append(extract_features(image_path, model))\n",
    "\n",
    "pickle.dump(feature_list, open('feature_list.pkl', 'wb'))"
   ]
  },
  {
   "cell_type": "code",
   "execution_count": 13,
   "metadata": {},
   "outputs": [],
   "source": [
    "# Unpickle \n",
    "filenames = pickle.load(open(\"filenames.pkl\", \"rb\"))\n",
    "feature_list = pickle.load(open(\"feature_list.pkl\", \"rb\"))"
   ]
  },
  {
   "cell_type": "code",
   "execution_count": 14,
   "metadata": {},
   "outputs": [],
   "source": [
    "def inference(image_path,model, algorithm='brute', metric='euclidean'):\n",
    "    normalized_result = extract_features(image_path, model)\n",
    "    neighbours = NearestNeighbors(n_neighbors=5, algorithm=algorithm, metric=metric)\n",
    "    neighbours.fit(feature_list)\n",
    "    distances, indices = neighbours.kneighbors([normalized_result])\n",
    "    return indices[0], distances[0]  "
   ]
  }
 ],
 "metadata": {
  "kernelspec": {
   "display_name": "Python 3",
   "language": "python",
   "name": "python3"
  },
  "language_info": {
   "codemirror_mode": {
    "name": "ipython",
    "version": 3
   },
   "file_extension": ".py",
   "mimetype": "text/x-python",
   "name": "python",
   "nbconvert_exporter": "python",
   "pygments_lexer": "ipython3",
   "version": "3.11.5"
  }
 },
 "nbformat": 4,
 "nbformat_minor": 2
}
